{
 "cells": [
  {
   "cell_type": "code",
   "execution_count": null,
   "metadata": {
    "collapsed": false,
    "jupyter": {
     "outputs_hidden": false
    }
   },
   "outputs": [],
   "source": [
    "!pip install mrsimulator"
   ]
  },
  {
   "cell_type": "markdown",
   "metadata": {},
   "source": [
    "\n",
    "## Wollastonite, 29Si (I=1/2)\n",
    "\n",
    "29Si (I=1/2) spinning sideband simulation.\n"
   ]
  },
  {
   "cell_type": "markdown",
   "metadata": {},
   "source": [
    "Wollastonite is a high-temperature calcium-silicate, $\\beta−\\text{Ca}_3\\text{Si}_3\\text{O}_9$, with three distinct $^{29}\\text{Si}$ sites. The $^{29}\\text{Si}$ tensor parameters were obtained from Hansen *et. al.*[1]"
   ]
  },
  {
   "cell_type": "code",
   "execution_count": null,
   "metadata": {
    "collapsed": false,
    "jupyter": {
     "outputs_hidden": false
    }
   },
   "outputs": [],
   "source": [
    "import matplotlib.pyplot as plt\n",
    "\n",
    "from mrsimulator import Simulator, SpinSystem, Site\n",
    "from mrsimulator.methods import BlochDecaySpectrum"
   ]
  },
  {
   "cell_type": "markdown",
   "metadata": {},
   "source": [
    "## Step 1: Create Spin systems.\n",
    "\n",
    "#### Sites"
   ]
  },
  {
   "cell_type": "code",
   "execution_count": null,
   "metadata": {
    "collapsed": false,
    "jupyter": {
     "outputs_hidden": false
    }
   },
   "outputs": [],
   "source": [
    "S29_1 = Site(\n",
    "    isotope=\"29Si\",\n",
    "    isotropic_chemical_shift=-89.0,  # in ppm\n",
    "    shielding_symmetric={\"zeta\": 59.8, \"eta\": 0.62},  # zeta in ppm\n",
    ")\n",
    "S29_2 = Site(\n",
    "    isotope=\"29Si\",\n",
    "    isotropic_chemical_shift=-89.5,  # in ppm\n",
    "    shielding_symmetric={\"zeta\": 52.1, \"eta\": 0.68},  # zeta in ppm\n",
    ")\n",
    "S29_3 = Site(\n",
    "    isotope=\"29Si\",\n",
    "    isotropic_chemical_shift=-87.8,  # in ppm\n",
    "    shielding_symmetric={\"zeta\": 69.4, \"eta\": 0.60},  # zeta in ppm\n",
    ")\n",
    "\n",
    "sites = [S29_1, S29_2, S29_3]  # all sites"
   ]
  },
  {
   "cell_type": "markdown",
   "metadata": {},
   "source": [
    "#### Spin systems"
   ]
  },
  {
   "cell_type": "code",
   "execution_count": null,
   "metadata": {},
   "outputs": [],
   "source": [
    "spin_systems = []\n",
    "for i in range(3):\n",
    "    system = SpinSystem(sites=[sites[i]])\n",
    "    spin_systems.append(system)"
   ]
  },
  {
   "cell_type": "markdown",
   "metadata": {},
   "source": [
    "## Step 2: Create the methods\n",
    "\n",
    "Create a Bloch decay spectrum method."
   ]
  },
  {
   "cell_type": "code",
   "execution_count": null,
   "metadata": {
    "collapsed": false,
    "jupyter": {
     "outputs_hidden": false
    }
   },
   "outputs": [],
   "source": [
    "method = BlochDecaySpectrum(\n",
    "    channels=[\"29Si\"],\n",
    "    magnetic_flux_density=14.1,  # in T\n",
    "    rotor_frequency=1500,  # in Hz\n",
    "    spectral_dimensions=[\n",
    "        {\n",
    "            \"count\": 2048,\n",
    "            \"spectral_width\": 25000,  # in Hz\n",
    "            \"reference_offset\": -10000,  # in Hz\n",
    "            \"label\": r\"$^{29}$Si resonances\",\n",
    "        }\n",
    "    ],\n",
    ")"
   ]
  },
  {
   "cell_type": "markdown",
   "metadata": {},
   "source": [
    "## Step 3: Setup and run the simulation"
   ]
  },
  {
   "cell_type": "code",
   "execution_count": null,
   "metadata": {
    "collapsed": false,
    "jupyter": {
     "outputs_hidden": false
    }
   },
   "outputs": [],
   "source": [
    "sim = Simulator()\n",
    "sim.spin_systems = spin_systems  # add the spin systems\n",
    "sim.methods = [method]  # add the method\n",
    "sim.run()"
   ]
  },
  {
   "cell_type": "markdown",
   "metadata": {},
   "source": [
    "Plot of the spectrum."
   ]
  },
  {
   "cell_type": "code",
   "execution_count": null,
   "metadata": {
    "collapsed": false,
    "jupyter": {
     "outputs_hidden": false
    }
   },
   "outputs": [],
   "source": [
    "# The plot of the simulation before signal processing.\n",
    "ax = plt.subplot(projection=\"csdm\")\n",
    "ax.plot(sim.methods[0].simulation, color=\"black\", linewidth=1)\n",
    "ax.invert_xaxis()\n",
    "plt.tight_layout()\n",
    "plt.show()"
   ]
  },
  {
   "cell_type": "markdown",
   "metadata": {},
   "source": [
    "### Add post-simulation signal processing.\n",
    "\n",
    "Read more at [signal processing](https://mrsimulator.readthedocs.io/en/stable/signal_processing.html)."
   ]
  },
  {
   "cell_type": "code",
   "execution_count": null,
   "metadata": {},
   "outputs": [],
   "source": [
    "import mrsimulator.signal_processing as sp\n",
    "import mrsimulator.signal_processing.apodization as apo"
   ]
  },
  {
   "cell_type": "code",
   "execution_count": null,
   "metadata": {
    "collapsed": false,
    "jupyter": {
     "outputs_hidden": false
    }
   },
   "outputs": [],
   "source": [
    "processor = sp.SignalProcessor(\n",
    "    operations=[\n",
    "        sp.IFFT(),\n",
    "        apo.Exponential(FWHM=\"70 Hz\"),\n",
    "        sp.FFT()\n",
    "    ]\n",
    ")\n",
    "processed_data = processor.apply_operations(data=sim.methods[0].simulation)"
   ]
  },
  {
   "cell_type": "code",
   "execution_count": null,
   "metadata": {
    "collapsed": false,
    "jupyter": {
     "outputs_hidden": false
    }
   },
   "outputs": [],
   "source": [
    "# The plot of the simulation after signal processing.\n",
    "ax = plt.subplot(projection=\"csdm\")\n",
    "ax.plot(processed_data.real, color=\"black\", linewidth=1)\n",
    "ax.invert_xaxis()\n",
    "plt.tight_layout()\n",
    "plt.show()"
   ]
  },
  {
   "cell_type": "markdown",
   "metadata": {},
   "source": [
    "1. Hansen, M. R., Jakobsen, H. J., Skibsted, J., $^{29}\\text{Si}$ Chemical Shift Anisotropies in Calcium Silicates from High-Field $^{29}\\text{Si}$ MAS NMR Spectroscopy, Inorg. Chem. 2003, **42**, *7*, 2368-2377. [DOI: 10.1021/ic020647f](https://doi.org/10.1021/ic020647f)\n",
    "\n"
   ]
  },
  {
   "cell_type": "code",
   "execution_count": null,
   "metadata": {},
   "outputs": [],
   "source": []
  }
 ],
 "metadata": {
  "kernelspec": {
   "display_name": "Python 3",
   "language": "python",
   "name": "python3"
  },
  "language_info": {
   "codemirror_mode": {
    "name": "ipython",
    "version": 3
   },
   "file_extension": ".py",
   "mimetype": "text/x-python",
   "name": "python",
   "nbconvert_exporter": "python",
   "pygments_lexer": "ipython3",
   "version": "3.7.7"
  }
 },
 "nbformat": 4,
 "nbformat_minor": 4
}
