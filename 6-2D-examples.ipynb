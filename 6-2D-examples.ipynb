{
 "cells": [
  {
   "cell_type": "code",
   "execution_count": null,
   "metadata": {},
   "outputs": [],
   "source": [
    "!pip install mrsimulator"
   ]
  },
  {
   "cell_type": "code",
   "execution_count": null,
   "metadata": {},
   "outputs": [],
   "source": [
    "import mrsimulator\n",
    "mrsimulator.__version__"
   ]
  },
  {
   "cell_type": "markdown",
   "metadata": {},
   "source": [
    "## Transition query\n",
    "\n",
    "Method objects have attribute `transition_query`, which query a spin system for the transitions that satisfy the query selection criterion. A simplified syntax for `transition_query` follows\n",
    "\n",
    "```tranistion_query : {'P': [-1], 'D': [0]}```\n",
    "\n",
    "where `P` and `D` are a list of p and d-transition symmetry functions.\n",
    "\n",
    "P = [$m_f - m_i$, ...]\n",
    "\n",
    "D = [$m_f^2 - m_i^2$, ..]"
   ]
  },
  {
   "cell_type": "markdown",
   "metadata": {},
   "source": [
    "### In case of I = 3/2\n",
    "\n",
    "| Initial enery state ($m_i$) | Final energy state ($m_f$)   |   P   |   D  |\n",
    "| --------------------------- | ---------------------------- | ----- | ---- |\n",
    "| $\\left|3/2\\right\\rangle$    | $\\left|1/2\\right\\rangle$     | -1    |  -2  |\n",
    "| $\\left|1/2\\right\\rangle$    | $\\left|-1/2\\right\\rangle$    | -1    |   0  |\n",
    "| $\\left|-1/2\\right\\rangle$   | $\\left|-3/2\\right\\rangle$    | -1    |   2  |\n",
    "| $\\left|3/2\\right\\rangle$    | $\\left|-1/2\\right\\rangle$    | -2    |  -2  |\n",
    "| $\\left|1/2\\right\\rangle$    | $\\left|-3/2\\right\\rangle$    | -2    |   2  |\n",
    "| $\\left|3/2\\right\\rangle$    | $\\left|-3/2\\right\\rangle$    | -3    |   0  |"
   ]
  },
  {
   "cell_type": "markdown",
   "metadata": {},
   "source": [
    "## 2D simulations "
   ]
  },
  {
   "cell_type": "code",
   "execution_count": null,
   "metadata": {},
   "outputs": [],
   "source": [
    "import matplotlib.pyplot as plt\n",
    "\n",
    "import mrsimulator.signal_processing as sp\n",
    "import mrsimulator.signal_processing.apodization as apo\n",
    "\n",
    "from mrsimulator import Simulator, SpinSystem, Site\n",
    "from mrsimulator.methods import MQVAS"
   ]
  },
  {
   "cell_type": "code",
   "execution_count": null,
   "metadata": {},
   "outputs": [],
   "source": [
    "def update(method):\n",
    "    \"\"\"\n",
    "        1) Create a single-site spin system,\n",
    "        2) update the method of the simulator object,\n",
    "        3) re-run the simulation,\n",
    "        4) add post simulation processing, and\n",
    "        5) plot the data\n",
    "    \"\"\"\n",
    "\n",
    "    site = Site(\n",
    "        isotope=\"87Rb\",\n",
    "        isotropic_chemical_shift=-7,  # in ppm\n",
    "        shielding_symmetric={\n",
    "            \"zeta\": 110,  # in ppm\n",
    "            \"eta\": 0\n",
    "        },\n",
    "        quadrupolar={\n",
    "            \"Cq\": 3.5e6,  # in Hz\n",
    "            \"eta\": 0.3,\n",
    "            \"alpha\": 0,  # in rads\n",
    "            \"beta\": 70 * 3.1415 / 180,  # in rads\n",
    "            \"gamma\": 0,  # in rads\n",
    "        },\n",
    "    )\n",
    "    sys = [SpinSystem(sites=[site])]\n",
    "    \n",
    "    # simulator object\n",
    "    sim = Simulator()\n",
    "    sim.spin_systems = sys\n",
    "    sim.methods = [method]\n",
    "    \n",
    "    sim.config.integration_volume='hemisphere'\n",
    "    sim.run()\n",
    "\n",
    "    data = sim.methods[0].simulation\n",
    "    \n",
    "    # plot the simulation\n",
    "    ax = plt.gca(projection='csdm')\n",
    "    ax.imshow(data, aspect='auto', cmap='gist_ncar_r')\n",
    "    ax.invert_xaxis()\n",
    "    ax.invert_yaxis()\n",
    "    plt.show()"
   ]
  },
  {
   "cell_type": "markdown",
   "metadata": {},
   "source": [
    "# 3QMAS"
   ]
  },
  {
   "cell_type": "code",
   "execution_count": null,
   "metadata": {},
   "outputs": [],
   "source": [
    "method1 = MQVAS(\n",
    "    channels=[\"87Rb\"],\n",
    "    magnetic_flux_density=9.4,  # in T\n",
    "    rotor_angle = 54.735 * 3.1415 / 180, # in rads\n",
    "    spectral_dimensions=[\n",
    "        {\n",
    "            \"count\": 256,\n",
    "            \"spectral_width\": 2e4,  # in Hz\n",
    "            \"reference_offset\": 4e3,  # in Hz\n",
    "            \"label\": \"3Q dimension\",\n",
    "            \"events\": [{\n",
    "                \"transition_query\": {'P': [-3], 'D': [0]}\n",
    "            }]\n",
    "        },\n",
    "        {\n",
    "            \"count\": 256,\n",
    "            \"spectral_width\": 2e4,  # in Hz\n",
    "            \"reference_offset\": -4e3,  # in Hz\n",
    "            \"label\": \"MAS dimension\",\n",
    "            \"events\": [{\n",
    "                \"transition_query\": {'P': [-1], 'D': [0]}\n",
    "            }]\n",
    "        },\n",
    "    ],\n",
    ")"
   ]
  },
  {
   "cell_type": "code",
   "execution_count": null,
   "metadata": {},
   "outputs": [],
   "source": [
    "update(method1)"
   ]
  },
  {
   "cell_type": "markdown",
   "metadata": {},
   "source": [
    "# STMAS"
   ]
  },
  {
   "cell_type": "code",
   "execution_count": null,
   "metadata": {},
   "outputs": [],
   "source": [
    "method2 = MQVAS(\n",
    "    channels=[\"87Rb\"],\n",
    "    magnetic_flux_density=4.2,  # in T\n",
    "    rotor_angle = 54.735 * 3.1415 / 180, # in rads\n",
    "    spectral_dimensions=[\n",
    "        {\n",
    "            \"count\": 256,\n",
    "            \"spectral_width\": 6e4,  # in Hz\n",
    "            \"reference_offset\": -1e3,  # in Hz\n",
    "            \"label\": \"Satelline transition dimension\",\n",
    "            \"events\": [{\n",
    "                \"transition_query\": {'P': [-1], 'D': [-2, 2, 0]}\n",
    "            }]\n",
    "        },\n",
    "        {\n",
    "            \"count\": 256,\n",
    "            \"spectral_width\": 5e4,  # in Hz\n",
    "            \"reference_offset\": -7e3,  # in Hz\n",
    "            \"label\": \"MAS dimension\",\n",
    "            \"events\": [{\n",
    "                \"transition_query\": {'P': [-1], 'D': [0]}\n",
    "            }]\n",
    "        },\n",
    "    ],\n",
    ")"
   ]
  },
  {
   "cell_type": "code",
   "execution_count": null,
   "metadata": {},
   "outputs": [],
   "source": [
    "update(method2)"
   ]
  },
  {
   "cell_type": "markdown",
   "metadata": {},
   "source": [
    "# STVAS"
   ]
  },
  {
   "cell_type": "code",
   "execution_count": null,
   "metadata": {},
   "outputs": [],
   "source": [
    "method3 = MQVAS(\n",
    "    channels=[\"87Rb\"],\n",
    "    magnetic_flux_density=4.2,  # in T\n",
    "    rotor_angle = 50 * 3.1415 / 180, # in rads  <--------\n",
    "    spectral_dimensions=[\n",
    "        {\n",
    "            \"count\": 256,\n",
    "            \"spectral_width\": 6e5,  # in Hz\n",
    "            \"reference_offset\": 1e4,  # in Hz\n",
    "            \"label\": \"Satelline transition dimension\",\n",
    "            \"events\": [{\n",
    "                \"transition_query\": {'P': [-1], 'D': [-2, 2, 0]}\n",
    "            }]\n",
    "        },\n",
    "        {\n",
    "            \"count\": 256,\n",
    "            \"spectral_width\": 3e4,  # in Hz\n",
    "            \"reference_offset\": -9e3,  # in Hz\n",
    "            \"label\": \"MAS dimension\",\n",
    "            \"events\": [{\n",
    "                \"transition_query\": {'P': [-1], 'D': [0]}\n",
    "            }]\n",
    "        },\n",
    "    ],\n",
    ")"
   ]
  },
  {
   "cell_type": "code",
   "execution_count": null,
   "metadata": {},
   "outputs": [],
   "source": [
    "update(method3)"
   ]
  },
  {
   "cell_type": "markdown",
   "metadata": {},
   "source": [
    "# COASTER"
   ]
  },
  {
   "cell_type": "code",
   "execution_count": null,
   "metadata": {},
   "outputs": [],
   "source": [
    "method4 = MQVAS(\n",
    "    channels=[\"87Rb\"],\n",
    "    magnetic_flux_density=9.4,  # in T\n",
    "    rotor_angle = 70.12 * 3.1415 / 180, # in rads\n",
    "    spectral_dimensions=[\n",
    "        {\n",
    "            \"count\": 256,\n",
    "            \"spectral_width\": 4e4,  # in Hz\n",
    "            \"reference_offset\": -8e3,  # in Hz\n",
    "            \"label\": \"3Q dimension\",\n",
    "            \"events\": [{\n",
    "                \"transition_query\": {'P': [3], 'D': [0]}\n",
    "            }]\n",
    "        },\n",
    "        {\n",
    "            \"count\": 256,\n",
    "            \"spectral_width\": 2e4,  # in Hz\n",
    "            \"reference_offset\": -3e3,  # in Hz\n",
    "            \"label\": \"70.12 dimension\",\n",
    "            \"events\": [{\n",
    "                \"transition_query\": {'P': [-1], 'D': [0]}\n",
    "            }]\n",
    "        },\n",
    "    ],\n",
    ")"
   ]
  },
  {
   "cell_type": "code",
   "execution_count": null,
   "metadata": {},
   "outputs": [],
   "source": [
    "update(method4)"
   ]
  },
  {
   "cell_type": "markdown",
   "metadata": {},
   "source": [
    "# SAS"
   ]
  },
  {
   "cell_type": "code",
   "execution_count": null,
   "metadata": {},
   "outputs": [],
   "source": [
    "method5 = MQVAS(\n",
    "    channels=[\"87Rb\"],\n",
    "    magnetic_flux_density=4.2,  # in T\n",
    "    spectral_dimensions=[\n",
    "        {\n",
    "            \"count\": 256,\n",
    "            \"spectral_width\": 2e4,  # in Hz\n",
    "            \"reference_offset\": -5e3,  # in Hz\n",
    "            \"label\": \"70.12 dimension\",\n",
    "            \"events\": [{\n",
    "                \"rotor_angle\": 70.12 * 3.1415 / 180, # in rads\n",
    "                \"transition_query\": {'P': [-1], 'D': [0]}\n",
    "            }]\n",
    "        },\n",
    "        {\n",
    "            \"count\": 256,\n",
    "            \"spectral_width\": 3e4,  # in Hz\n",
    "            \"reference_offset\": -7e3,  # in Hz\n",
    "            \"label\": \"MAS dimension\",\n",
    "            \"events\": [{\n",
    "                \"rotor_angle\": 54.735 * 3.1415 / 180, # in rads\n",
    "                \"transition_query\": {'P': [-1], 'D': [0]}\n",
    "            }]\n",
    "        },\n",
    "    ],\n",
    ")"
   ]
  },
  {
   "cell_type": "code",
   "execution_count": null,
   "metadata": {},
   "outputs": [],
   "source": [
    "update(method5)"
   ]
  },
  {
   "cell_type": "code",
   "execution_count": null,
   "metadata": {},
   "outputs": [],
   "source": []
  }
 ],
 "metadata": {
  "kernelspec": {
   "display_name": "Python 3",
   "language": "python",
   "name": "python3"
  },
  "language_info": {
   "codemirror_mode": {
    "name": "ipython",
    "version": 3
   },
   "file_extension": ".py",
   "mimetype": "text/x-python",
   "name": "python",
   "nbconvert_exporter": "python",
   "pygments_lexer": "ipython3",
   "version": "3.7.7"
  }
 },
 "nbformat": 4,
 "nbformat_minor": 4
}
