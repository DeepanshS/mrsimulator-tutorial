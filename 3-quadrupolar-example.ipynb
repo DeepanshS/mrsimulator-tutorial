{
 "cells": [
  {
   "cell_type": "code",
   "execution_count": null,
   "metadata": {
    "collapsed": false,
    "jupyter": {
     "outputs_hidden": false
    }
   },
   "outputs": [],
   "source": [
    "!pip install mrsimulator"
   ]
  },
  {
   "cell_type": "markdown",
   "metadata": {},
   "source": [
    "\n",
    "## Coesite, 17O (I=5/2)\n",
    "\n",
    "17O (I=5/2) quadrupolar spectrum simulation.\n"
   ]
  },
  {
   "cell_type": "markdown",
   "metadata": {},
   "source": [
    "Coesite is a high-pressure (2-3 GPa) and high-temperature (700°C) polymorph of silicon dioxide $\\text{SiO}_2$. Coesite has five crystallographic $^{17}\\text{O}$ sites. In the following, we use the $^{17}\\text{O}$ EFG tensor information from Grandinetti *et. al.*[1]."
   ]
  },
  {
   "cell_type": "code",
   "execution_count": null,
   "metadata": {
    "collapsed": false,
    "jupyter": {
     "outputs_hidden": false
    }
   },
   "outputs": [],
   "source": [
    "import matplotlib.pyplot as plt\n",
    "\n",
    "import mrsimulator.signal_processing as sp\n",
    "import mrsimulator.signal_processing.apodization as apo\n",
    "\n",
    "from mrsimulator import Simulator, SpinSystem, Site\n",
    "from mrsimulator.methods import BlochDecayCentralTransitionSpectrum"
   ]
  },
  {
   "cell_type": "markdown",
   "metadata": {},
   "source": [
    "## Step 1: Create the spin systems\n",
    "\n",
    "#### Sites"
   ]
  },
  {
   "cell_type": "code",
   "execution_count": null,
   "metadata": {
    "collapsed": false,
    "jupyter": {
     "outputs_hidden": false
    }
   },
   "outputs": [],
   "source": [
    "# default unit of isotropic_chemical_shift is ppm and Cq is Hz.\n",
    "O17_1 = Site(\n",
    "    isotope=\"17O\", isotropic_chemical_shift=29, quadrupolar={\"Cq\": 6.05e6, \"eta\": 0.000}\n",
    ")\n",
    "O17_2 = Site(\n",
    "    isotope=\"17O\", isotropic_chemical_shift=41, quadrupolar={\"Cq\": 5.43e6, \"eta\": 0.166}\n",
    ")\n",
    "O17_3 = Site(\n",
    "    isotope=\"17O\", isotropic_chemical_shift=57, quadrupolar={\"Cq\": 5.45e6, \"eta\": 0.168}\n",
    ")\n",
    "O17_4 = Site(\n",
    "    isotope=\"17O\", isotropic_chemical_shift=53, quadrupolar={\"Cq\": 5.52e6, \"eta\": 0.169}\n",
    ")\n",
    "O17_5 = Site(\n",
    "    isotope=\"17O\", isotropic_chemical_shift=58, quadrupolar={\"Cq\": 5.16e6, \"eta\": 0.292}\n",
    ")\n",
    "\n",
    "# all five sites.\n",
    "sites = [O17_1, O17_2, O17_3, O17_4, O17_5]"
   ]
  },
  {
   "cell_type": "markdown",
   "metadata": {},
   "source": [
    "#### Spin systems"
   ]
  },
  {
   "cell_type": "code",
   "execution_count": null,
   "metadata": {
    "collapsed": false,
    "jupyter": {
     "outputs_hidden": false
    }
   },
   "outputs": [],
   "source": [
    "abundance = [1, 1, 2, 2, 2]\n",
    "\n",
    "spin_systems = []\n",
    "for i in range(5):\n",
    "    system = SpinSystem(sites=[sites[i]], abundance=abundance[i])\n",
    "    spin_systems.append(system)"
   ]
  },
  {
   "cell_type": "markdown",
   "metadata": {},
   "source": [
    "## Step 2: Create the methods\n",
    "\n",
    "Setup a central transition selective Bloch decay spectrum method."
   ]
  },
  {
   "cell_type": "code",
   "execution_count": null,
   "metadata": {
    "collapsed": false,
    "jupyter": {
     "outputs_hidden": false
    }
   },
   "outputs": [],
   "source": [
    "method = BlochDecayCentralTransitionSpectrum(\n",
    "    channels=[\"17O\"],\n",
    "    magnetic_flux_density=9.4, # T\n",
    "    rotor_angle = 54.735 * 3.1415 /180, # in rads\n",
    "    rotor_frequency=14000,  # in Hz\n",
    "    spectral_dimensions=[\n",
    "        {\n",
    "            \"count\": 2048,\n",
    "            \"spectral_width\": 50000,  # in Hz\n",
    "            \"label\": r\"$^{17}$O resonances\",\n",
    "        }\n",
    "    ],\n",
    ")"
   ]
  },
  {
   "cell_type": "markdown",
   "metadata": {},
   "source": [
    "## Step 3: Setup and run the simulation"
   ]
  },
  {
   "cell_type": "code",
   "execution_count": null,
   "metadata": {
    "collapsed": false,
    "jupyter": {
     "outputs_hidden": false
    }
   },
   "outputs": [],
   "source": [
    "sim = Simulator()\n",
    "sim.spin_systems = spin_systems  # add the spin systems\n",
    "sim.methods = [method]  # add the method\n",
    "\n",
    "sim.run()"
   ]
  },
  {
   "cell_type": "markdown",
   "metadata": {},
   "source": [
    "The plot of the spectrum"
   ]
  },
  {
   "cell_type": "code",
   "execution_count": null,
   "metadata": {
    "collapsed": false,
    "jupyter": {
     "outputs_hidden": false
    }
   },
   "outputs": [],
   "source": [
    "data = sim.methods[0].simulation.real\n",
    "# The plot of the simulation before signal processing.\n",
    "ax = plt.subplot(projection=\"csdm\")\n",
    "ax.plot(data, color=\"black\", linewidth=1)\n",
    "ax.invert_xaxis()\n",
    "plt.tight_layout()\n",
    "plt.show()"
   ]
  },
  {
   "cell_type": "markdown",
   "metadata": {},
   "source": [
    "Add post-simulation signal processing."
   ]
  },
  {
   "cell_type": "code",
   "execution_count": null,
   "metadata": {
    "collapsed": false,
    "jupyter": {
     "outputs_hidden": false
    }
   },
   "outputs": [],
   "source": [
    "processor = sp.SignalProcessor(\n",
    "    operations=[\n",
    "        sp.IFFT(),\n",
    "        apo.Exponential(FWHM=\"30 Hz\"),\n",
    "        apo.Gaussian(FWHM=\"145 Hz\"),\n",
    "        sp.FFT(),\n",
    "    ]\n",
    ")\n",
    "processed_data = processor.apply_operations(data=data)\n",
    "\n",
    "# The plot of the simulation after signal processing.\n",
    "ax = plt.subplot(projection=\"csdm\")\n",
    "ax.plot(processed_data.real, color=\"black\", linewidth=1)\n",
    "ax.invert_xaxis()\n",
    "plt.tight_layout()\n",
    "plt.show()"
   ]
  },
  {
   "cell_type": "markdown",
   "metadata": {},
   "source": [
    "1. Grandinetti, P. J., Baltisberger, J. H., Farnan, I., Stebbins, J. F., Werner, U. and Pines, A. Solid-State $^{17}\\text{O}$ Magic-Angle and Dynamic-Angle Spinning NMR Study of the $\\text{SiO}_2$ Polymorph Coesite, J. Phys. Chem. 1995, **99**, *32*, 12341-12348. [DOI: 10.1021/j100032a045](https://doi.org/10.1021/j100032a045)"
   ]
  },
  {
   "cell_type": "code",
   "execution_count": null,
   "metadata": {},
   "outputs": [],
   "source": []
  }
 ],
 "metadata": {
  "kernelspec": {
   "display_name": "Python 3",
   "language": "python",
   "name": "python3"
  },
  "language_info": {
   "codemirror_mode": {
    "name": "ipython",
    "version": 3
   },
   "file_extension": ".py",
   "mimetype": "text/x-python",
   "name": "python",
   "nbconvert_exporter": "python",
   "pygments_lexer": "ipython3",
   "version": "3.7.7"
  }
 },
 "nbformat": 4,
 "nbformat_minor": 4
}
