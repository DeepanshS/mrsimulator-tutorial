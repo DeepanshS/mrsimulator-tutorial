{
 "cells": [
  {
   "cell_type": "code",
   "execution_count": null,
   "metadata": {
    "collapsed": false,
    "jupyter": {
     "outputs_hidden": false
    }
   },
   "outputs": [],
   "source": [
    "!pip install mrsimulator lmfit"
   ]
  },
  {
   "cell_type": "markdown",
   "metadata": {},
   "source": [
    "# Least-squares fit"
   ]
  },
  {
   "cell_type": "markdown",
   "metadata": {},
   "source": [
    "A least squares analysis is a three step process\n",
    "\n",
    "- create a **fitting model**,\n",
    "- create the **model parameters**, and\n",
    "- define a **cost function** to minimize.\n",
    "\n",
    "Here, we will use the mrsimulator objects to create a fitting model, and use the [LMFIT](https://lmfit.github.io/lmfit-py/) library for performing the least-squares fitting optimization.\n",
    "\n",
    "In this example, we use a synthetic $^{29}$Si NMR spectrum of cuspidine, generated from the tensor parameters reported by Hansen *et. al.* [1], to demonstrate a simple fitting procedure."
   ]
  },
  {
   "cell_type": "code",
   "execution_count": null,
   "metadata": {
    "collapsed": false,
    "jupyter": {
     "outputs_hidden": false
    }
   },
   "outputs": [],
   "source": [
    "import csdmpy as cp\n",
    "import matplotlib.pyplot as plt\n",
    "\n",
    "import mrsimulator.signal_processing as sp\n",
    "import mrsimulator.signal_processing.apodization as apo\n",
    "\n",
    "from mrsimulator import Simulator, SpinSystem, Site\n",
    "from mrsimulator.methods import BlochDecayCentralTransitionSpectrum\n",
    "\n",
    "from lmfit import fit_report, Minimizer, Parameters"
   ]
  },
  {
   "cell_type": "markdown",
   "metadata": {},
   "source": [
    "## Import the dataset\n",
    "Use the [csdmpy](https://csdmpy.readthedocs.io/en/latest/index.html) module to load the synthetic dataset as a CSDM object."
   ]
  },
  {
   "cell_type": "code",
   "execution_count": null,
   "metadata": {
    "collapsed": false,
    "jupyter": {
     "outputs_hidden": false
    }
   },
   "outputs": [],
   "source": [
    "filename = \"https://raw.githubusercontent.com/DeepanshS/mrsimulator-tutorial/master/resources/Rb_site.csdf\"\n",
    "synthetic_experiment = cp.load(filename)\n",
    "\n",
    "# convert the dimension coordinates from Hz to ppm\n",
    "synthetic_experiment.dimensions[0].to(\"ppm\", \"nmr_frequency_ratio\")\n",
    "\n",
    "# Normalize the spectrum\n",
    "synthetic_experiment /= synthetic_experiment.max()\n",
    "\n",
    "# Plot of the synthetic dataset.\n",
    "ax = plt.subplot(projection=\"csdm\")\n",
    "ax.plot(synthetic_experiment.real, color=\"black\", linewidth=1)\n",
    "ax.set_xlim(20, -20)\n",
    "ax.invert_xaxis()\n",
    "plt.tight_layout()\n",
    "plt.show()"
   ]
  },
  {
   "cell_type": "markdown",
   "metadata": {},
   "source": [
    "## Create a fitting model\n",
    "\n",
    "A fitting model is the combination of `Simulator` and `SignalProcessor` class objects.\n",
    "\n",
    "#### Create the spin-system, method, and Simulator objects"
   ]
  },
  {
   "cell_type": "code",
   "execution_count": null,
   "metadata": {
    "collapsed": false,
    "jupyter": {
     "outputs_hidden": false
    }
   },
   "outputs": [],
   "source": [
    "# the guess model comprising of a single site spin system\n",
    "site = Site(\n",
    "    isotope=\"87Rb\",\n",
    "    isotropic_chemical_shift=5,  # in ppm\n",
    "    quadrupolar={\"Cq\": 1.5e6, \"eta\": 0.3},  # Cq is in Hz\n",
    ")\n",
    "\n",
    "system_object = SpinSystem(\n",
    "    name=\"Rb Site\",\n",
    "    sites=[site],  # from the above code\n",
    ")"
   ]
  },
  {
   "cell_type": "code",
   "execution_count": null,
   "metadata": {
    "collapsed": false,
    "jupyter": {
     "outputs_hidden": false
    }
   },
   "outputs": [],
   "source": [
    "method = BlochDecayCentralTransitionSpectrum(\n",
    "    channels=[\"87Rb\"],\n",
    "    magnetic_flux_density=9.4,  # in T\n",
    "    rotor_frequency=14000,  # in Hz\n",
    "    spectral_dimensions=[\n",
    "        {\n",
    "            \"count\": 2560,\n",
    "            \"spectral_width\": 31237.7977352597,  # in Hz\n",
    "            \"reference_offset\": 0,  # in Hz\n",
    "        }\n",
    "    ],\n",
    ")"
   ]
  },
  {
   "cell_type": "code",
   "execution_count": null,
   "metadata": {
    "collapsed": false,
    "jupyter": {
     "outputs_hidden": false
    }
   },
   "outputs": [],
   "source": [
    "sim = Simulator()\n",
    "sim.spin_systems = [system_object]\n",
    "sim.methods = [method]\n",
    "\n",
    "sim.methods[0].experiment = synthetic_experiment"
   ]
  },
  {
   "cell_type": "code",
   "execution_count": null,
   "metadata": {
    "collapsed": false,
    "jupyter": {
     "outputs_hidden": false
    }
   },
   "outputs": [],
   "source": [
    "sim.run()"
   ]
  },
  {
   "cell_type": "markdown",
   "metadata": {},
   "source": [
    "Create a SignalProcessor class and apply post simulation processing."
   ]
  },
  {
   "cell_type": "code",
   "execution_count": null,
   "metadata": {
    "collapsed": false,
    "jupyter": {
     "outputs_hidden": false
    }
   },
   "outputs": [],
   "source": [
    "processor = sp.SignalProcessor(\n",
    "    operations=[\n",
    "        sp.IFFT(),\n",
    "        apo.Gaussian(FWHM=\"20 Hz\"),\n",
    "        sp.FFT(),\n",
    "        sp.Scale(factor=0.8),\n",
    "    ]\n",
    ")\n",
    "processed_data = processor.apply_operations(data=sim.methods[0].simulation)"
   ]
  },
  {
   "cell_type": "markdown",
   "metadata": {},
   "source": [
    "Plot of the spectrum"
   ]
  },
  {
   "cell_type": "code",
   "execution_count": null,
   "metadata": {
    "collapsed": false,
    "jupyter": {
     "outputs_hidden": false
    }
   },
   "outputs": [],
   "source": [
    "ax = plt.subplot(projection=\"csdm\")\n",
    "ax.plot(processed_data.real, c=\"k\", linewidth=1, label=\"guess spectrum\")\n",
    "ax.plot(synthetic_experiment.real, c=\"r\", linewidth=1.5, alpha=0.5, label=\"experiment\")\n",
    "ax.set_xlim(20, -20)\n",
    "ax.invert_xaxis()\n",
    "plt.legend()\n",
    "plt.tight_layout()\n",
    "plt.show()"
   ]
  },
  {
   "cell_type": "markdown",
   "metadata": {},
   "source": [
    "## Setup a Least-squares minimization\n",
    "\n",
    "Now that our model is ready, the next step is to set up a least-squares minimization.\n",
    "You may use any optimization package of choice, here we show an application using\n",
    "LMFIT. You may read more on the LMFIT [documentation page](https://lmfit.github.io/lmfit-py/index.html).\n",
    "\n",
    "### Create fitting parameters\n",
    "\n",
    "Next, you will need a list of parameters that will be used in the fit. The *LMFIT*\n",
    "library provides a [Parameters](https://lmfit.github.io/lmfit-py/parameters.html)\n",
    "class to create a list of parameters.\n",
    "\n"
   ]
  },
  {
   "cell_type": "code",
   "execution_count": null,
   "metadata": {
    "collapsed": false,
    "jupyter": {
     "outputs_hidden": false
    }
   },
   "outputs": [],
   "source": [
    "site1 = system_object.sites[0]\n",
    "params = Parameters()\n",
    "\n",
    "params.add(name=\"iso\", value=site1.isotropic_chemical_shift)\n",
    "params.add(name=\"eta\", value=site1.quadrupolar.eta, min=0, max=1)\n",
    "params.add(name=\"Cq\", value=site1.quadrupolar.Cq)\n",
    "params.add(name=\"FWHM\", value=processor.operations[1].FWHM)\n",
    "params.add(name=\"factor\", value=processor.operations[3].factor)"
   ]
  },
  {
   "cell_type": "markdown",
   "metadata": {},
   "source": [
    "### Create a minimization/loss function\n",
    "\n",
    "Note, the above set of parameters does not know about the model. You will need to\n",
    "set up a function that will\n",
    "\n",
    "- update the parameters of the `Simulator` and `SignalProcessor` object based on the\n",
    "  LMFIT parameter updates,\n",
    "- re-simulate the spectrum based on the updated values, and\n",
    "- return the difference between the experiment and simulation.\n",
    "\n"
   ]
  },
  {
   "cell_type": "code",
   "execution_count": null,
   "metadata": {
    "collapsed": false,
    "jupyter": {
     "outputs_hidden": false
    }
   },
   "outputs": [],
   "source": [
    "def minimization_function(params, sim, processor):\n",
    "    values = params.valuesdict()\n",
    "\n",
    "    # the experiment data as a Numpy array\n",
    "    intensity = sim.methods[0].experiment.dependent_variables[0].components[0].real\n",
    "\n",
    "    # Here, we update simulation parameters iso, eta, and zeta for the site object\n",
    "    site = sim.spin_systems[0].sites[0]\n",
    "    site.isotropic_chemical_shift = values[\"iso\"]\n",
    "    site.quadrupolar.eta = values[\"eta\"]\n",
    "    site.quadrupolar.Cq = values[\"Cq\"]\n",
    "\n",
    "    # run the simulation\n",
    "    sim.run()\n",
    "\n",
    "    # update the SignalProcessor parameter and apply line broadening.\n",
    "    # update the scaling factor parameter at index 3 of operations list.\n",
    "    processor.operations[3].factor = values[\"factor\"]\n",
    "    # update the exponential apodization FWHM parameter at index 1 of operations list.\n",
    "    processor.operations[1].FWHM = values[\"FWHM\"]\n",
    "\n",
    "    # apply signal processing\n",
    "    processed_data = processor.apply_operations(sim.methods[0].simulation)\n",
    "\n",
    "    # return the difference vector.\n",
    "    return intensity - processed_data.dependent_variables[0].components[0].real"
   ]
  },
  {
   "cell_type": "markdown",
   "metadata": {},
   "source": [
    "### Perform the least-squares minimization\n",
    "\n",
    "With the synthetic dataset, simulation, and the initial guess parameters, we are ready\n",
    "to perform the fit. To fit, we use the *LMFIT* [Minimizer](https://lmfit.github.io/lmfit-py/fitting.html) class.\n",
    "\n"
   ]
  },
  {
   "cell_type": "code",
   "execution_count": null,
   "metadata": {
    "collapsed": false,
    "jupyter": {
     "outputs_hidden": false
    }
   },
   "outputs": [],
   "source": [
    "minner = Minimizer(minimization_function, params, fcn_args=(sim, processor))\n",
    "result = minner.minimize()\n",
    "print(fit_report(result))"
   ]
  },
  {
   "cell_type": "markdown",
   "metadata": {},
   "source": [
    "#### The plot of the fit, measurement and the residuals is shown below."
   ]
  },
  {
   "cell_type": "code",
   "execution_count": null,
   "metadata": {
    "collapsed": false,
    "jupyter": {
     "outputs_hidden": false
    }
   },
   "outputs": [],
   "source": [
    "plt.figsize = (4, 3)\n",
    "x, y_data = synthetic_experiment.to_list()\n",
    "residual = result.residual\n",
    "plt.plot(x, y_data.real, label=\"Spectrum\")\n",
    "plt.plot(x, y_data.real - residual, \"r\", alpha=0.5, label=\"Fit\")\n",
    "plt.plot(x, residual, alpha=0.5, label=\"Residual\")\n",
    "\n",
    "plt.xlabel(\"Frequency / Hz\")\n",
    "plt.xlim(20, -20)\n",
    "plt.gca().invert_xaxis()\n",
    "plt.grid(which=\"major\", axis=\"both\", linestyle=\"--\")\n",
    "plt.legend()\n",
    "plt.tight_layout()\n",
    "plt.show()"
   ]
  },
  {
   "cell_type": "markdown",
   "metadata": {},
   "source": [
    "1. Hansen, M. R., Jakobsen, H. J., Skibsted, J., $^{29}\\text{Si}$ Chemical Shift Anisotropies in Calcium Silicates from High-Field $^{29}\\text{Si}$ MAS NMR Spectroscopy, Inorg. Chem. 2003, **42**, *7*, 2368-2377. [DOI: 10.1021/ic020647f](https://doi.org/10.1021/ic020647f)"
   ]
  },
  {
   "cell_type": "code",
   "execution_count": null,
   "metadata": {},
   "outputs": [],
   "source": []
  }
 ],
 "metadata": {
  "kernelspec": {
   "display_name": "Python 3",
   "language": "python",
   "name": "python3"
  },
  "language_info": {
   "codemirror_mode": {
    "name": "ipython",
    "version": 3
   },
   "file_extension": ".py",
   "mimetype": "text/x-python",
   "name": "python",
   "nbconvert_exporter": "python",
   "pygments_lexer": "ipython3",
   "version": "3.7.7"
  }
 },
 "nbformat": 4,
 "nbformat_minor": 4
}
