{
 "cells": [
  {
   "cell_type": "markdown",
   "metadata": {
    "slideshow": {
     "slide_type": "slide"
    }
   },
   "source": [
    "# Installation\n",
    "\n",
    "When using the mrsimulator on Google colab, type the following in the first cell."
   ]
  },
  {
   "cell_type": "code",
   "execution_count": 1,
   "metadata": {
    "collapsed": true,
    "jupyter": {
     "outputs_hidden": true
    },
    "slideshow": {
     "slide_type": "subslide"
    }
   },
   "outputs": [
    {
     "name": "stdout",
     "output_type": "stream",
     "text": [
      "Requirement already satisfied: mrsimulator in /Users/deepansh/Research/NMRgit/mrsimulator/mrsimulator/src (0.5.0.dev0)\n",
      "Requirement already satisfied: numpy>=1.17 in /Users/deepansh/opt/anaconda3/lib/python3.7/site-packages (from mrsimulator) (1.17.5)\n",
      "Requirement already satisfied: csdmpy>=0.3.2 in /Users/deepansh/Research/NMRgit/csdmpy/csdmpy (from mrsimulator) (0.3.2)\n",
      "Requirement already satisfied: pydantic>=1.0 in /Users/deepansh/opt/anaconda3/lib/python3.7/site-packages (from mrsimulator) (1.5.1)\n",
      "Requirement already satisfied: monty>=2.0.4 in /Users/deepansh/opt/anaconda3/lib/python3.7/site-packages (from mrsimulator) (3.0.2)\n",
      "Requirement already satisfied: typing-extensions>=3.7 in /Users/deepansh/opt/anaconda3/lib/python3.7/site-packages (from mrsimulator) (3.7.4.1)\n",
      "Requirement already satisfied: setuptools>=27.3 in /Users/deepansh/.local/lib/python3.7/site-packages (from csdmpy>=0.3.2->mrsimulator) (41.0.1)\n",
      "Requirement already satisfied: astropy>=3.0 in /Users/deepansh/opt/anaconda3/lib/python3.7/site-packages (from csdmpy>=0.3.2->mrsimulator) (4.0.1.post1)\n",
      "Requirement already satisfied: requests>=2.21.0 in /Users/deepansh/opt/anaconda3/lib/python3.7/site-packages (from csdmpy>=0.3.2->mrsimulator) (2.24.0)\n",
      "Requirement already satisfied: idna<3,>=2.5 in /Users/deepansh/opt/anaconda3/lib/python3.7/site-packages (from requests>=2.21.0->csdmpy>=0.3.2->mrsimulator) (2.10)\n",
      "Requirement already satisfied: chardet<4,>=3.0.2 in /Users/deepansh/opt/anaconda3/lib/python3.7/site-packages (from requests>=2.21.0->csdmpy>=0.3.2->mrsimulator) (3.0.4)\n",
      "Requirement already satisfied: certifi>=2017.4.17 in /Users/deepansh/opt/anaconda3/lib/python3.7/site-packages (from requests>=2.21.0->csdmpy>=0.3.2->mrsimulator) (2020.6.20)\n",
      "Requirement already satisfied: urllib3!=1.25.0,!=1.25.1,<1.26,>=1.21.1 in /Users/deepansh/opt/anaconda3/lib/python3.7/site-packages (from requests>=2.21.0->csdmpy>=0.3.2->mrsimulator) (1.25.10)\n"
     ]
    }
   ],
   "source": [
    "!pip install mrsimulator"
   ]
  },
  {
   "cell_type": "code",
   "execution_count": null,
   "metadata": {
    "slideshow": {
     "slide_type": "subslide"
    }
   },
   "outputs": [],
   "source": []
  },
  {
   "cell_type": "markdown",
   "metadata": {
    "slideshow": {
     "slide_type": "slide"
    }
   },
   "source": [
    "# Workflow in setting up a simulation\n",
    "\n",
    "- Create spin systems\n",
    "- Select methods\n",
    "- Run simulations"
   ]
  },
  {
   "cell_type": "markdown",
   "metadata": {
    "slideshow": {
     "slide_type": "slide"
    }
   },
   "source": [
    "All simulations are setup using the `Simulator` class."
   ]
  },
  {
   "cell_type": "code",
   "execution_count": 2,
   "metadata": {
    "slideshow": {
     "slide_type": "subslide"
    }
   },
   "outputs": [],
   "source": [
    "from mrsimulator import Simulator"
   ]
  },
  {
   "cell_type": "code",
   "execution_count": 3,
   "metadata": {
    "slideshow": {
     "slide_type": "subslide"
    }
   },
   "outputs": [],
   "source": [
    "sim = Simulator()"
   ]
  },
  {
   "cell_type": "markdown",
   "metadata": {
    "slideshow": {
     "slide_type": "subslide"
    }
   },
   "source": [
    "The two main attributes of this class are the `spin_systems` and `methods` attribute\n",
    "\n",
    "#### Step 1: Create Spin systems\n",
    "``sim.spin_systems = []``\n",
    "\n",
    "#### Step 2: Create methods\n",
    "``sim.methods = []``\n",
    "\n",
    "#### Step 3: Run the simulation\n",
    "``sim.run()``"
   ]
  },
  {
   "cell_type": "markdown",
   "metadata": {
    "slideshow": {
     "slide_type": "slide"
    }
   },
   "source": [
    "# How to setup a spin system?\n",
    "\n",
    "A spin system is a collection of `sites` and `couplings` that describes the sample in-whole or in-parts and represents an isolated system in the context of magnetic resonance."
   ]
  },
  {
   "cell_type": "markdown",
   "metadata": {
    "slideshow": {
     "slide_type": "subslide"
    }
   },
   "source": [
    "### Create sites\n",
    "\n",
    "A Site is generically described with the following parameters.\n",
    "\n",
    "- **isotope**: The site isotope, e.g., '1H', '14N', '17O'.\n",
    "\n",
    "- **isotropic_chemical_shift** The isotropic chemical shift in ppm.\n",
    "\n",
    "- **shielding_symmetric**: Describes the traceless symmetric part of shielding tensor with parameters described using Haeberlen notation.\n",
    "  - **zeta**: The anisotropy in ppm.\n",
    "  - **eta**: The asymmetry parameter.\n",
    "\n",
    "- **quadrupolar**: Describes the traceless quadrupolar tensor with parameters\n",
    "  - **Cq**: The quadrupolar coupling constant in Hz.\n",
    "  - **eta**: The quadrupolar asymmetry parameter.\n",
    "  - **alpha**: The Euler angle in radians.\n",
    "  - **beta**: The Euler angle in radians.\n",
    "  - **gamma**: The Euler angle in radians. \n",
    "\n",
    "- **name**: An optional name.\n",
    "- **label**: An optional label.\n",
    "- **description**: An optional description.\n",
    "\n"
   ]
  },
  {
   "cell_type": "markdown",
   "metadata": {
    "slideshow": {
     "slide_type": "slide"
    }
   },
   "source": [
    "Use the `Site` class to create sites"
   ]
  },
  {
   "cell_type": "code",
   "execution_count": 5,
   "metadata": {
    "slideshow": {
     "slide_type": "subslide"
    }
   },
   "outputs": [],
   "source": [
    "from mrsimulator import Site"
   ]
  },
  {
   "cell_type": "code",
   "execution_count": 6,
   "metadata": {
    "slideshow": {
     "slide_type": "subslide"
    }
   },
   "outputs": [],
   "source": [
    "site1 = Site(\n",
    "    isotope='13C',\n",
    "    isotropic_chemical_shift=10\n",
    ")"
   ]
  },
  {
   "cell_type": "code",
   "execution_count": 7,
   "metadata": {
    "slideshow": {
     "slide_type": "subslide"
    }
   },
   "outputs": [
    {
     "data": {
      "text/plain": [
       "{'isotope': '13C', 'isotropic_chemical_shift': '10.0 ppm'}"
      ]
     },
     "execution_count": 7,
     "metadata": {},
     "output_type": "execute_result"
    }
   ],
   "source": [
    "site1.to_dict_with_units()"
   ]
  },
  {
   "cell_type": "code",
   "execution_count": 8,
   "metadata": {},
   "outputs": [
    {
     "data": {
      "text/plain": [
       "{'isotope': '13C',\n",
       " 'isotropic_chemical_shift': '-10.0 ppm',\n",
       " 'shielding_symmetric': {'zeta': '100.0 ppm', 'eta': 0.1}}"
      ]
     },
     "execution_count": 8,
     "metadata": {},
     "output_type": "execute_result"
    }
   ],
   "source": [
    "site2 = Site(\n",
    "    isotope='13C', \n",
    "    isotropic_chemical_shift=-10, \n",
    "    shielding_symmetric={'zeta': 100, 'eta':0.1}\n",
    ")\n",
    "\n",
    "site2.to_dict_with_units()"
   ]
  },
  {
   "cell_type": "markdown",
   "metadata": {},
   "source": [
    "### Create spin systems\n",
    "\n",
    "A `SpinSystem` is generically described with the following parameters.\n",
    "\n",
    "- **sites**: A list of `Site` objects.\n",
    "\n",
    "- **abundance** The spin system abundance.\n",
    "\n",
    "- **name**: An optional name.\n",
    "- **label**: An optional label.\n",
    "- **description**: An optional description.\n",
    "\n",
    "Use the `SpinSystem` class to create spin system(s) from sites."
   ]
  },
  {
   "cell_type": "code",
   "execution_count": 9,
   "metadata": {},
   "outputs": [],
   "source": [
    "from mrsimulator import SpinSystem"
   ]
  },
  {
   "cell_type": "code",
   "execution_count": 41,
   "metadata": {},
   "outputs": [],
   "source": [
    "sys1 = SpinSystem(\n",
    "    name='sys1',\n",
    "    sites=[site1],\n",
    "    abundance=0.1\n",
    ")\n",
    "\n",
    "sys2 = SpinSystem(\n",
    "    name='sys2',\n",
    "    sites=[site2],\n",
    "    abundance=1\n",
    ")"
   ]
  },
  {
   "cell_type": "code",
   "execution_count": 63,
   "metadata": {},
   "outputs": [
    {
     "data": {
      "text/plain": [
       "{'name': 'sys2',\n",
       " 'sites': [{'isotope': '13C',\n",
       "   'isotropic_chemical_shift': '-10.0 ppm',\n",
       "   'shielding_symmetric': {'zeta': '100.0 ppm', 'eta': 0.1}}],\n",
       " 'abundance': '1.0 %'}"
      ]
     },
     "execution_count": 63,
     "metadata": {},
     "output_type": "execute_result"
    }
   ],
   "source": [
    "sys2.to_dict_with_units()"
   ]
  },
  {
   "cell_type": "markdown",
   "metadata": {},
   "source": [
    "#### Add spin systems to the simulator object."
   ]
  },
  {
   "cell_type": "code",
   "execution_count": 42,
   "metadata": {},
   "outputs": [],
   "source": [
    "sim.spin_systems = [sys1, sys2]"
   ]
  },
  {
   "cell_type": "markdown",
   "metadata": {},
   "source": [
    "# How to setup a method?\n",
    "\n",
    "A method is a collection of parameters that describe an NMR method."
   ]
  },
  {
   "cell_type": "code",
   "execution_count": 43,
   "metadata": {},
   "outputs": [],
   "source": [
    "from mrsimulator.methods import BlochDecaySpectrum"
   ]
  },
  {
   "cell_type": "code",
   "execution_count": 44,
   "metadata": {},
   "outputs": [],
   "source": [
    "method1 = BlochDecaySpectrum(\n",
    "    channels=['13C'],\n",
    "    magnetic_flux_density=9.4, # T\n",
    "    rotor_angle=90 * 3.1415 / 180, # rad\n",
    "    rotor_frequency=3000, # in Hz\n",
    "    spectral_dimensions=[\n",
    "        {\n",
    "            'count': 512,\n",
    "            'spectral_width': 40000, # in Hz\n",
    "            'label': '13C resonances'\n",
    "        }\n",
    "    ]\n",
    ")"
   ]
  },
  {
   "cell_type": "markdown",
   "metadata": {},
   "source": [
    "#### Add method to the simulator object."
   ]
  },
  {
   "cell_type": "code",
   "execution_count": 45,
   "metadata": {},
   "outputs": [],
   "source": [
    "sim.methods = [method1]"
   ]
  },
  {
   "cell_type": "markdown",
   "metadata": {},
   "source": [
    "# Run the simulation"
   ]
  },
  {
   "cell_type": "code",
   "execution_count": 46,
   "metadata": {},
   "outputs": [],
   "source": [
    "sim.run()"
   ]
  },
  {
   "cell_type": "code",
   "execution_count": 47,
   "metadata": {},
   "outputs": [],
   "source": [
    "data = sim.methods[0].simulation"
   ]
  },
  {
   "cell_type": "markdown",
   "metadata": {},
   "source": [
    "# Serializing data object\n",
    "\n",
    "The simulation data is a core scientific dataset model[1] (CSDM) object. It is a lightweight and portable file format model for multi-dimensional scientific datasets and is supported by numerous NMR software—DMFIT, SIMPSON, jsNMR, and RMN. We also provide a python package csdmpy.\n",
    "\n",
    "For more details, see [CSDM serialization](https://csdmpy.readthedocs.io/en/stable/startFromScratch/save_dataset.html)."
   ]
  },
  {
   "cell_type": "code",
   "execution_count": 48,
   "metadata": {},
   "outputs": [],
   "source": [
    "data.save('test_sim.csdf')"
   ]
  },
  {
   "cell_type": "markdown",
   "metadata": {},
   "source": [
    "# Plot of the data"
   ]
  },
  {
   "cell_type": "code",
   "execution_count": 49,
   "metadata": {},
   "outputs": [],
   "source": [
    "import matplotlib.pyplot as plt"
   ]
  },
  {
   "cell_type": "code",
   "execution_count": 53,
   "metadata": {},
   "outputs": [
    {
     "data": {
      "image/png": "[encoded data removed]",
      "text/plain": [
       "<Figure size 432x288 with 1 Axes>"
      ]
     },
     "metadata": {
      "needs_background": "light"
     },
     "output_type": "display_data"
    }
   ],
   "source": [
    "ax = plt.gca(projection='csdm')\n",
    "ax.plot(data)\n",
    "plt.savefig('filename.pdf')\n",
    "plt.show()"
   ]
  },
  {
   "cell_type": "markdown",
   "metadata": {},
   "source": [
    "# Configuring simulator object\n",
    "\n",
    "For details, see [ConfigSimulator](https://mrsimulator.readthedocs.io/en/stable/configuring_simulator.html)."
   ]
  },
  {
   "cell_type": "code",
   "execution_count": 57,
   "metadata": {},
   "outputs": [
    {
     "data": {
      "text/plain": [
       "ConfigSimulator(number_of_sidebands=64, integration_volume='octant', integration_density=70, decompose_spectrum='none')"
      ]
     },
     "execution_count": 57,
     "metadata": {},
     "output_type": "execute_result"
    }
   ],
   "source": [
    "sim.config"
   ]
  },
  {
   "cell_type": "code",
   "execution_count": 64,
   "metadata": {},
   "outputs": [],
   "source": [
    "sim.config.decompose_spectrum = 'spin_system'\n",
    "sim.run()\n",
    "data = sim.methods[0].simulation"
   ]
  },
  {
   "cell_type": "code",
   "execution_count": 65,
   "metadata": {},
   "outputs": [
    {
     "data": {
      "image/png": "[encoded data removed]",
      "text/plain": [
       "<Figure size 432x288 with 1 Axes>"
      ]
     },
     "metadata": {
      "needs_background": "light"
     },
     "output_type": "display_data"
    }
   ],
   "source": [
    "ax = plt.gca(projection='csdm')\n",
    "ax.plot(data)\n",
    "plt.savefig('filename.pdf')\n",
    "plt.show()"
   ]
  },
  {
   "cell_type": "markdown",
   "metadata": {},
   "source": [
    "# Reference\n",
    "1. Srivastava, D. J., Vosegaard, T., Massiot, D., Grandinetti, P. J. Core Scientific Dataset Model: A lightweight and portable model and file format for multi-dimensional scientific data. PLOS ONE, 2020, 15, 1. [DOI 10.1371/e0225953](https://doi.org/10.1371/journal.pone.0225953)"
   ]
  },
  {
   "cell_type": "code",
   "execution_count": null,
   "metadata": {},
   "outputs": [],
   "source": []
  }
 ],
 "metadata": {
  "kernelspec": {
   "display_name": "Python 3",
   "language": "python",
   "name": "python3"
  },
  "language_info": {
   "codemirror_mode": {
    "name": "ipython",
    "version": 3
   },
   "file_extension": ".py",
   "mimetype": "text/x-python",
   "name": "python",
   "nbconvert_exporter": "python",
   "pygments_lexer": "ipython3",
   "version": "3.7.7"
  }
 },
 "nbformat": 4,
 "nbformat_minor": 4
}
