{
 "cells": [
  {
   "cell_type": "code",
   "execution_count": null,
   "metadata": {},
   "outputs": [],
   "source": [
    "!pip install mrsimulator"
   ]
  },
  {
   "cell_type": "markdown",
   "metadata": {},
   "source": [
    "## Accessing spin systems from file\n",
    "\n",
    "The $^{13}$C chemical shift tensor values used in this example are obtained from Wylie. *et. al.*[1]"
   ]
  },
  {
   "cell_type": "code",
   "execution_count": null,
   "metadata": {},
   "outputs": [],
   "source": [
    "from mrsimulator import Simulator\n",
    "from mrsimulator.methods import BlochDecaySpectrum\n",
    "\n",
    "import matplotlib.pyplot as plt"
   ]
  },
  {
   "cell_type": "code",
   "execution_count": null,
   "metadata": {},
   "outputs": [],
   "source": [
    "sim = Simulator()\n",
    "print(len(sim.spin_systems))"
   ]
  },
  {
   "cell_type": "markdown",
   "metadata": {},
   "source": [
    "Load spin systems from an external file or database"
   ]
  },
  {
   "cell_type": "code",
   "execution_count": null,
   "metadata": {},
   "outputs": [],
   "source": [
    "sys_files = \"https://raw.githubusercontent.com/DeepanshS/mrsimulator-tutorial/master/resources/protein_GB1.mrsys\"\n",
    "sim.load_spin_systems(sys_files)"
   ]
  },
  {
   "cell_type": "code",
   "execution_count": null,
   "metadata": {},
   "outputs": [],
   "source": [
    "print(len(sim.spin_systems))"
   ]
  },
  {
   "cell_type": "code",
   "execution_count": null,
   "metadata": {},
   "outputs": [],
   "source": [
    "sim.spin_systems[2].to_dict_with_units()"
   ]
  },
  {
   "cell_type": "markdown",
   "metadata": {},
   "source": [
    "**Method**"
   ]
  },
  {
   "cell_type": "code",
   "execution_count": null,
   "metadata": {},
   "outputs": [],
   "source": [
    "method = BlochDecaySpectrum(\n",
    "    channels=[\"13C\"],\n",
    "    magnetic_flux_density='11.7',\n",
    "    rotor_angle=54.735 * 3.1415/180,\n",
    "    rotor_frequency=2600,\n",
    "    spectral_dimensions=[\n",
    "        {\n",
    "            \"count\": 2048,\n",
    "            \"spectral_width\": 18000, # in Hz\n",
    "            \"reference_offset\": 7000 # in Hz\n",
    "        }\n",
    "    ],\n",
    ")\n",
    "sim.methods = [method]  # add the method"
   ]
  },
  {
   "cell_type": "code",
   "execution_count": null,
   "metadata": {},
   "outputs": [],
   "source": [
    "sim.run()"
   ]
  },
  {
   "cell_type": "code",
   "execution_count": null,
   "metadata": {},
   "outputs": [],
   "source": [
    "ax = plt.subplot(projection=\"csdm\")\n",
    "ax.plot(sim.methods[0].simulation, linewidth=1)\n",
    "ax.invert_xaxis()\n",
    "# plt.tight_layout()\n",
    "plt.show()"
   ]
  },
  {
   "cell_type": "code",
   "execution_count": null,
   "metadata": {},
   "outputs": [],
   "source": [
    "import mrsimulator.signal_processing as sp\n",
    "import mrsimulator.signal_processing.apodization as apo"
   ]
  },
  {
   "cell_type": "code",
   "execution_count": null,
   "metadata": {},
   "outputs": [],
   "source": [
    "processor = sp.SignalProcessor(\n",
    "    operations=[\n",
    "        sp.IFFT(),\n",
    "        apo.Exponential(FWHM=\"20 Hz\"),\n",
    "        sp.FFT(),\n",
    "    ]\n",
    ")\n",
    "processed_data = processor.apply_operations(data=sim.methods[0].simulation)"
   ]
  },
  {
   "cell_type": "code",
   "execution_count": null,
   "metadata": {},
   "outputs": [],
   "source": [
    "# The plot of the simulation after signal processing.\n",
    "ax = plt.subplot(projection=\"csdm\")\n",
    "ax.plot(processed_data.real, color=\"black\", linewidth=1)\n",
    "ax.invert_xaxis()\n",
    "plt.tight_layout()\n",
    "# plt.savefig('Protein_GB1.pdf')\n",
    "plt.show()"
   ]
  },
  {
   "cell_type": "markdown",
   "metadata": {},
   "source": [
    "1. Wylie, B. J., Schwieters, C. D., Oldfield, E., Rienstra C. M., Protein Structure Refinement Using 13C$\\alpha$ Chemical Shift Tensors, J. Am. Chem. Soc. **2009**, *131*, 985-992. [DOI: 10.1021/ja804041p](https://pubs.acs.org/doi/10.1021/ja804041p)."
   ]
  },
  {
   "cell_type": "markdown",
   "metadata": {},
   "source": [
    "----\n",
    "**Also see**\n",
    "\n",
    "NMR spectra simulation for [amorphous materials](https://mrsimulator.readthedocs.io/en/stable/auto_examples/index.html#d-nmr-simulation).\n",
    "\n",
    "----"
   ]
  },
  {
   "cell_type": "code",
   "execution_count": null,
   "metadata": {},
   "outputs": [],
   "source": []
  }
 ],
 "metadata": {
  "kernelspec": {
   "display_name": "Python 3",
   "language": "python",
   "name": "python3"
  },
  "language_info": {
   "codemirror_mode": {
    "name": "ipython",
    "version": 3
   },
   "file_extension": ".py",
   "mimetype": "text/x-python",
   "name": "python",
   "nbconvert_exporter": "python",
   "pygments_lexer": "ipython3",
   "version": "3.7.7"
  }
 },
 "nbformat": 4,
 "nbformat_minor": 4
}
